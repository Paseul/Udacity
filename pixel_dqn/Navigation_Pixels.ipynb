{
 "cells": [
  {
   "cell_type": "markdown",
   "metadata": {},
   "source": [
    "# Navigation\n",
    "\n",
    "---\n",
    "\n",
    "Congratulations for completing the first project of the [Deep Reinforcement Learning Nanodegree](https://www.udacity.com/course/deep-reinforcement-learning-nanodegree--nd893)!  In this notebook, you will learn how to control an agent in a more challenging environment, where it can learn directly from raw pixels!  **Note that this exercise is optional!**\n",
    "\n",
    "### 1. Start the Environment\n",
    "\n",
    "We begin by importing some necessary packages.  If the code cell below returns an error, please revisit the project instructions to double-check that you have installed [Unity ML-Agents](https://github.com/Unity-Technologies/ml-agents/blob/master/docs/Installation.md) and [NumPy](http://www.numpy.org/)."
   ]
  },
  {
   "cell_type": "code",
   "execution_count": 1,
   "metadata": {},
   "outputs": [],
   "source": [
    "from unityagents import UnityEnvironment\n",
    "import numpy as np\n",
    "from collections import deque\n",
    "from pixel_dqn_agent import Agent\n",
    "import matplotlib.pyplot as plt\n",
    "%matplotlib inline"
   ]
  },
  {
   "cell_type": "markdown",
   "metadata": {},
   "source": [
    "Next, we will start the environment!  **_Before running the code cell below_**, change the `file_name` parameter to match the location of the Unity environment that you downloaded.\n",
    "\n",
    "- **Mac**: `\"path/to/VisualBanana.app\"`\n",
    "- **Windows** (x86): `\"path/to/VisualBanana_Windows_x86/Banana.exe\"`\n",
    "- **Windows** (x86_64): `\"path/to/VisualBanana_Windows_x86_64/Banana.exe\"`\n",
    "- **Linux** (x86): `\"path/to/VisualBanana_Linux/Banana.x86\"`\n",
    "- **Linux** (x86_64): `\"path/to/VisualBanana_Linux/Banana.x86_64\"`\n",
    "- **Linux** (x86, headless): `\"path/to/VisualBanana_Linux_NoVis/Banana.x86\"`\n",
    "- **Linux** (x86_64, headless): `\"path/to/VisualBanana_Linux_NoVis/Banana.x86_64\"`\n",
    "\n",
    "For instance, if you are using a Mac, then you downloaded `VisualBanana.app`.  If this file is in the same folder as the notebook, then the line below should appear as follows:\n",
    "```\n",
    "env = UnityEnvironment(file_name=\"VisualBanana.app\")\n",
    "```"
   ]
  },
  {
   "cell_type": "code",
   "execution_count": 2,
   "metadata": {},
   "outputs": [
    {
     "name": "stderr",
     "output_type": "stream",
     "text": [
      "INFO:unityagents:\n",
      "'Academy' started successfully!\n",
      "Unity Academy name: Academy\n",
      "        Number of Brains: 1\n",
      "        Number of External Brains : 1\n",
      "        Lesson number : 0\n",
      "        Reset Parameters :\n",
      "\t\t\n",
      "Unity brain name: BananaBrain\n",
      "        Number of Visual Observations (per agent): 1\n",
      "        Vector Observation space type: continuous\n",
      "        Vector Observation space size (per agent): 0\n",
      "        Number of stacked Vector Observation: 1\n",
      "        Vector Action space type: discrete\n",
      "        Vector Action space size (per agent): 4\n",
      "        Vector Action descriptions: , , , \n"
     ]
    }
   ],
   "source": [
    "env = UnityEnvironment(file_name=\"../VisualBanana_Windows_x86_64/Banana.exe\")"
   ]
  },
  {
   "cell_type": "markdown",
   "metadata": {},
   "source": [
    "Environments contain **_brains_** which are responsible for deciding the actions of their associated agents. Here we check for the first brain available, and set it as the default brain we will be controlling from Python."
   ]
  },
  {
   "cell_type": "code",
   "execution_count": 3,
   "metadata": {},
   "outputs": [],
   "source": [
    "# get the default brain\n",
    "brain_name = env.brain_names[0]\n",
    "brain = env.brains[brain_name]"
   ]
  },
  {
   "cell_type": "markdown",
   "metadata": {},
   "source": [
    "### 2. Examine the State and Action Spaces\n",
    "\n",
    "The simulation contains a single agent that navigates a large environment.  At each time step, it has four actions at its disposal:\n",
    "- `0` - walk forward \n",
    "- `1` - walk backward\n",
    "- `2` - turn left\n",
    "- `3` - turn right\n",
    "\n",
    "The environment state is an array of raw pixels with shape `(1, 84, 84, 3)`.  *Note that this code differs from the notebook for the project, where we are grabbing **`visual_observations`** (the raw pixels) instead of **`vector_observations`**.* A reward of `+1` is provided for collecting a yellow banana, and a reward of `-1` is provided for collecting a blue banana. \n",
    "\n",
    "Run the code cell below to print some information about the environment."
   ]
  },
  {
   "cell_type": "code",
   "execution_count": 4,
   "metadata": {},
   "outputs": [
    {
     "name": "stdout",
     "output_type": "stream",
     "text": [
      "Number of agents: 1\n",
      "Number of actions: 4\n",
      "States look like:\n"
     ]
    },
    {
     "data": {
      "image/png": "[encoded data removed]",
      "text/plain": [
       "<Figure size 432x288 with 1 Axes>"
      ]
     },
     "metadata": {
      "needs_background": "light"
     },
     "output_type": "display_data"
    },
    {
     "name": "stdout",
     "output_type": "stream",
     "text": [
      "States have shape: (1, 84, 84, 3)\n"
     ]
    }
   ],
   "source": [
    "# reset the environment\n",
    "env_info = env.reset(train_mode=True)[brain_name]\n",
    "\n",
    "# number of agents in the environment\n",
    "print('Number of agents:', len(env_info.agents))\n",
    "\n",
    "# number of actions\n",
    "action_size = brain.vector_action_space_size\n",
    "print('Number of actions:', action_size)\n",
    "\n",
    "# examine the state space \n",
    "state = env_info.visual_observations[0]\n",
    "print('States look like:')\n",
    "plt.imshow(np.squeeze(state))\n",
    "plt.show()\n",
    "state_size = state.shape\n",
    "print('States have shape:', state.shape)"
   ]
  },
  {
   "cell_type": "markdown",
   "metadata": {},
   "source": [
    "### 3. Take Random Actions in the Environment\n",
    "\n",
    "In the next code cell, you will learn how to use the Python API to control the agent and receive feedback from the environment.\n",
    "\n",
    "Once this cell is executed, you will watch the agent's performance, if it selects an action (uniformly) at random with each time step.  A window should pop up that allows you to observe the agent, as it moves through the environment.  \n",
    "\n",
    "Of course, you'll have to change the code so that the agent is able to use its experience to gradually choose better actions when interacting with the environment!"
   ]
  },
  {
   "cell_type": "code",
   "execution_count": 5,
   "metadata": {
    "scrolled": true
   },
   "outputs": [
    {
     "name": "stdout",
     "output_type": "stream",
     "text": [
      "Starting Agent Testing:\n",
      "Episode 100\tScore: -1.0\tMax Score: 2.0\tMin Score: -3.0\tAverage Score: -0.05\t\n",
      "Episode 200\tScore: 0.0\tMax Score: 4.0\tMin Score: -3.0\tAverage Score: 0.71\t\t\t\n",
      "Episode 300\tScore: 0.0\tMax Score: 7.0\tMin Score: -3.0\tAverage Score: 1.07\t\t\n",
      "Episode 400\tScore: 3.0\tMax Score: 9.0\tMin Score: -1.0\tAverage Score: 2.62\t\t\n",
      "Episode 500\tScore: 5.0\tMax Score: 12.0\tMin Score: -1.0\tAverage Score: 3.53\t\t\n",
      "Episode 600\tScore: 9.0\tMax Score: 14.0\tMin Score: -1.0\tAverage Score: 4.87\t\t\n",
      "Episode 700\tScore: 5.0\tMax Score: 14.0\tMin Score: -2.0\tAverage Score: 6.86\t\t\n",
      "Episode 800\tScore: 6.0\tMax Score: 17.0\tMin Score: 1.0\tAverage Score: 8.27\t\t\t\n",
      "Episode 900\tScore: 13.0\tMax Score: 16.0\tMin Score: 0.0\tAverage Score: 7.70\t\n",
      "Episode 1000\tScore: 10.0\tMax Score: 19.0\tMin Score: 1.0\tAverage Score: 8.64\t\n",
      "Episode 1100\tScore: 3.0\tMax Score: 20.0\tMin Score: -1.0\tAverage Score: 9.07\t\t\n",
      "Episode 1200\tScore: 9.0\tMax Score: 19.0\tMin Score: 0.0\tAverage Score: 10.28\t\t\n",
      "Episode 1300\tScore: 8.0\tMax Score: 19.0\tMin Score: 0.0\tAverage Score: 10.34\t\t\n",
      "Episode 1400\tScore: 12.0\tMax Score: 18.0\tMin Score: 0.0\tAverage Score: 10.01\t\n",
      "Episode 1500\tScore: 3.0\tMax Score: 23.0\tMin Score: 1.0\tAverage Score: 11.42\t\t\n",
      "Episode 1600\tScore: 14.0\tMax Score: 21.0\tMin Score: 0.0\tAverage Score: 11.02\t\n",
      "Episode 1700\tScore: 2.0\tMax Score: 20.0\tMin Score: 1.0\tAverage Score: 9.91\t\t\t\n",
      "Episode 1800\tScore: 10.0\tMax Score: 21.0\tMin Score: 0.0\tAverage Score: 10.38\t\n",
      "Episode 1900\tScore: 7.0\tMax Score: 21.0\tMin Score: -1.0\tAverage Score: 10.47\t\t\n",
      "Episode 2000\tScore: 5.0\tMax Score: 22.0\tMin Score: 1.0\tAverage Score: 11.05\t\t\t\n",
      "Episode 2100\tScore: 3.0\tMax Score: 19.0\tMin Score: 2.0\tAverage Score: 10.32\t\t\n",
      "Episode 2200\tScore: 13.0\tMax Score: 21.0\tMin Score: 0.0\tAverage Score: 10.08\t\n",
      "Episode 2300\tScore: 15.0\tMax Score: 21.0\tMin Score: 0.0\tAverage Score: 10.79\t\n",
      "Episode 2400\tScore: 3.0\tMax Score: 21.0\tMin Score: 2.0\tAverage Score: 10.80\t\t\n",
      "Episode 2500\tScore: 18.0\tMax Score: 23.0\tMin Score: 2.0\tAverage Score: 11.67\t\n",
      "Episode 2600\tScore: 18.0\tMax Score: 20.0\tMin Score: 0.0\tAverage Score: 11.40\t\n",
      "Episode 2700\tScore: 1.0\tMax Score: 21.0\tMin Score: 0.0\tAverage Score: 10.95\t\t\n",
      "Episode 2800\tScore: 16.0\tMax Score: 22.0\tMin Score: 1.0\tAverage Score: 11.48\t\n",
      "Episode 2900\tScore: 15.0\tMax Score: 21.0\tMin Score: -1.0\tAverage Score: 11.76\t\n",
      "Episode 3000\tScore: 17.0\tMax Score: 20.0\tMin Score: 0.0\tAverage Score: 11.82\t\t\n"
     ]
    },
    {
     "data": {
      "image/png": "[encoded data removed]",
      "text/plain": [
       "<Figure size 432x288 with 1 Axes>"
      ]
     },
     "metadata": {
      "needs_background": "light"
     },
     "output_type": "display_data"
    }
   ],
   "source": [
    "#Testing the agent\n",
    "from unityagents import UnityEnvironment\n",
    "import numpy as np\n",
    "import time\n",
    "from collections import deque\n",
    "import matplotlib.pyplot as plt\n",
    "import torch\n",
    "import pickle\n",
    "from pixel_dqn_agent import Agent\n",
    "\n",
    "local_network_fn = 'dqn_checkpoint_local.pth'\n",
    "def train(num_episodes=10, max_t = 1000, eps_start=1.0, eps_end=0.01, eps_decay=0.995):\n",
    "    scores = []\n",
    "    scores_window = deque(maxlen=100)                                     # last 100 scores\n",
    "    eps = eps_start                                                       # initialize epsilon\n",
    "    agent = Agent(state_size=state_size, action_size=action_size, seed=0) #create a new agent\n",
    "    agent.qnetwork_local.load_state_dict(torch.load(local_network_fn)) #load the weights\n",
    "    \n",
    "    for i_episode in range(1,num_episodes+1):\n",
    "        env_info = env.reset(train_mode=True)[brain_name]  # reset the environment\n",
    "        state = env_info.visual_observations[0]            # get the current state\n",
    "        state = state.reshape((-1,3,84,84))\n",
    "        score = 0                                          # initialize the score\n",
    "        for t in range(max_t):\n",
    "            stack_state = agent.stack_state(state)\n",
    "            action = agent.act(stack_state, eps)                 # select an action using e-greedy policy\n",
    "            env_info = env.step(int(action))[brain_name]   # send the action to the environment\n",
    "            next_state = env_info.visual_observations[0]   # get the next state\n",
    "            next_state = next_state.reshape((-1,3,84,84))\n",
    "            reward = env_info.rewards[0]                   # get the reward\n",
    "            done = env_info.local_done[0]                  # see if episode has finished\n",
    "            agent.step(state, action, reward, next_state, done, i_episode) #only add to experience buffer and don't do learning\n",
    "\n",
    "            score += reward                                # update the score\n",
    "            state = next_state                             # roll over the state to next time step\n",
    "            if done:                                       # exit loop if episode finished\n",
    "                break\n",
    "        scores_window.append(score)       # save most recent score\n",
    "        scores.append(score)              # save most recent score\n",
    "        eps = max(eps_end, eps_decay*eps) # decrease epsilon\n",
    "        print('\\rEpisode {}\\tScore: {}\\tMax Score: {}\\tMin Score: {}\\tAverage Score: {:.2f}\\t'.format(\n",
    "            i_episode, score, np.max(scores_window), np.min(scores_window),np.mean(scores_window)), end=\"\")\n",
    "        if i_episode % 100 == 0:\n",
    "            print('\\rEpisode {}\\tScore: {}\\tMax Score: {}\\tMin Score: {}\\tAverage Score: {:.2f}\\t'.format(\n",
    "                i_episode, score, np.max(scores_window), np.min(scores_window),np.mean(scores_window)))\n",
    "            torch.save(agent.qnetwork_local.state_dict(), 'dqn_checkpoint_local.pth')\n",
    "        if np.mean(scores_window)>=13.0:\n",
    "            print('\\nEnvironment solved in {:d} episodes!\\tAverage Score: {:.2f}'.format(i_episode, np.mean(scores_window)))\n",
    "            torch.save(agent.qnetwork_local.state_dict(), 'dqn_checkpoint_local.pth')\n",
    "            break\n",
    "    return scores\n",
    "\n",
    "print('Starting Agent Testing:')\n",
    "num_episodes=3000\n",
    "scores = train(num_episodes)\n",
    "\n",
    "# plot the scores\n",
    "fig = plt.figure()\n",
    "ax = fig.add_subplot(111)\n",
    "plt.plot(np.arange(len(scores)), scores)\n",
    "plt.ylabel('Score')\n",
    "plt.xlabel('Episode #')\n",
    "plt.show()"
   ]
  },
  {
   "cell_type": "markdown",
   "metadata": {},
   "source": [
    "When finished, you can close the environment."
   ]
  },
  {
   "cell_type": "code",
   "execution_count": 6,
   "metadata": {},
   "outputs": [],
   "source": [
    "env.close()"
   ]
  },
  {
   "cell_type": "markdown",
   "metadata": {},
   "source": [
    "### 4. It's Your Turn!\n",
    "\n",
    "Now it's your turn to train your own agent to solve the environment!  When training the environment, set `train_mode=True`, so that the line for resetting the environment looks like the following:\n",
    "```python\n",
    "env_info = env.reset(train_mode=True)[brain_name]\n",
    "```"
   ]
  },
  {
   "cell_type": "code",
   "execution_count": null,
   "metadata": {},
   "outputs": [],
   "source": []
  }
 ],
 "metadata": {
  "kernelspec": {
   "display_name": "Python 3",
   "language": "python",
   "name": "python3"
  },
  "language_info": {
   "codemirror_mode": {
    "name": "ipython",
    "version": 3
   },
   "file_extension": ".py",
   "mimetype": "text/x-python",
   "name": "python",
   "nbconvert_exporter": "python",
   "pygments_lexer": "ipython3",
   "version": "3.6.8"
  }
 },
 "nbformat": 4,
 "nbformat_minor": 2
}
