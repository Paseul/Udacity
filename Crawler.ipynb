{
 "cells": [
  {
   "cell_type": "markdown",
   "metadata": {},
   "source": [
    "# Continuous Control\n",
    "\n",
    "---\n",
    "\n",
    "Congratulations for completing the second project of the [Deep Reinforcement Learning Nanodegree](https://www.udacity.com/course/deep-reinforcement-learning-nanodegree--nd893) program!  In this notebook, you will learn how to control an agent in a more challenging environment, where the goal is to train a creature with four arms to walk forward.  **Note that this exercise is optional!**\n",
    "\n",
    "### 1. Start the Environment\n",
    "\n",
    "We begin by importing the necessary packages.  If the code cell below returns an error, please revisit the project instructions to double-check that you have installed [Unity ML-Agents](https://github.com/Unity-Technologies/ml-agents/blob/master/docs/Installation.md) and [NumPy](http://www.numpy.org/)."
   ]
  },
  {
   "cell_type": "code",
   "execution_count": 1,
   "metadata": {},
   "outputs": [],
   "source": [
    "from unityagents import UnityEnvironment\n",
    "import random\n",
    "import torch\n",
    "import numpy as np\n",
    "from collections import deque\n",
    "import matplotlib.pyplot as plt\n",
    "%matplotlib inline\n",
    "\n",
    "from ddpg_agent import Agent"
   ]
  },
  {
   "cell_type": "markdown",
   "metadata": {},
   "source": [
    "Next, we will start the environment!  **_Before running the code cell below_**, change the `file_name` parameter to match the location of the Unity environment that you downloaded.\n",
    "\n",
    "- **Mac**: `\"path/to/Crawler.app\"`\n",
    "- **Windows** (x86): `\"path/to/Crawler_Windows_x86/Crawler.exe\"`\n",
    "- **Windows** (x86_64): `\"path/to/Crawler_Windows_x86_64/Crawler.exe\"`\n",
    "- **Linux** (x86): `\"path/to/Crawler_Linux/Crawler.x86\"`\n",
    "- **Linux** (x86_64): `\"path/to/Crawler_Linux/Crawler.x86_64\"`\n",
    "- **Linux** (x86, headless): `\"path/to/Crawler_Linux_NoVis/Crawler.x86\"`\n",
    "- **Linux** (x86_64, headless): `\"path/to/Crawler_Linux_NoVis/Crawler.x86_64\"`\n",
    "\n",
    "For instance, if you are using a Mac, then you downloaded `Crawler.app`.  If this file is in the same folder as the notebook, then the line below should appear as follows:\n",
    "```\n",
    "env = UnityEnvironment(file_name=\"Crawler.app\")\n",
    "```"
   ]
  },
  {
   "cell_type": "code",
   "execution_count": 2,
   "metadata": {},
   "outputs": [
    {
     "name": "stderr",
     "output_type": "stream",
     "text": [
      "INFO:unityagents:\n",
      "'Academy' started successfully!\n",
      "Unity Academy name: Academy\n",
      "        Number of Brains: 1\n",
      "        Number of External Brains : 1\n",
      "        Lesson number : 0\n",
      "        Reset Parameters :\n",
      "\t\t\n",
      "Unity brain name: CrawlerBrain\n",
      "        Number of Visual Observations (per agent): 0\n",
      "        Vector Observation space type: continuous\n",
      "        Vector Observation space size (per agent): 129\n",
      "        Number of stacked Vector Observation: 1\n",
      "        Vector Action space type: continuous\n",
      "        Vector Action space size (per agent): 20\n",
      "        Vector Action descriptions: , , , , , , , , , , , , , , , , , , , \n"
     ]
    }
   ],
   "source": [
    "env = UnityEnvironment(file_name='Crawler_Windows_x86_64/Crawler.exe')"
   ]
  },
  {
   "cell_type": "markdown",
   "metadata": {},
   "source": [
    "Environments contain **_brains_** which are responsible for deciding the actions of their associated agents. Here we check for the first brain available, and set it as the default brain we will be controlling from Python."
   ]
  },
  {
   "cell_type": "code",
   "execution_count": 3,
   "metadata": {},
   "outputs": [],
   "source": [
    "# get the default brain\n",
    "brain_name = env.brain_names[0]\n",
    "brain = env.brains[brain_name]"
   ]
  },
  {
   "cell_type": "markdown",
   "metadata": {},
   "source": [
    "### 2. Examine the State and Action Spaces\n",
    "\n",
    "Run the code cell below to print some information about the environment."
   ]
  },
  {
   "cell_type": "code",
   "execution_count": 4,
   "metadata": {},
   "outputs": [
    {
     "name": "stdout",
     "output_type": "stream",
     "text": [
      "Number of agents: 12\n",
      "Size of each action: 20\n",
      "There are 12 agents. Each observes a state with length: 129\n",
      "The state for the first agent looks like: [ 0.00000000e+00  0.00000000e+00  0.00000000e+00  2.25000000e+00\n",
      "  1.00000000e+00  0.00000000e+00  1.78813934e-07  0.00000000e+00\n",
      "  1.00000000e+00  0.00000000e+00  0.00000000e+00  0.00000000e+00\n",
      "  0.00000000e+00  0.00000000e+00  0.00000000e+00  0.00000000e+00\n",
      "  0.00000000e+00  0.00000000e+00  0.00000000e+00  0.00000000e+00\n",
      "  0.00000000e+00  0.00000000e+00  0.00000000e+00  0.00000000e+00\n",
      "  6.06093168e-01 -1.42857209e-01 -6.06078804e-01  0.00000000e+00\n",
      "  0.00000000e+00  0.00000000e+00  0.00000000e+00  0.00000000e+00\n",
      "  0.00000000e+00  0.00000000e+00  0.00000000e+00  0.00000000e+00\n",
      "  0.00000000e+00  0.00000000e+00  1.33339906e+00 -1.42857209e-01\n",
      " -1.33341408e+00  0.00000000e+00  0.00000000e+00  0.00000000e+00\n",
      "  0.00000000e+00  0.00000000e+00  0.00000000e+00  0.00000000e+00\n",
      "  0.00000000e+00  0.00000000e+00  0.00000000e+00  0.00000000e+00\n",
      " -6.06093347e-01 -1.42857209e-01 -6.06078625e-01  0.00000000e+00\n",
      "  0.00000000e+00  0.00000000e+00  0.00000000e+00  0.00000000e+00\n",
      "  0.00000000e+00  0.00000000e+00  0.00000000e+00  0.00000000e+00\n",
      "  0.00000000e+00  0.00000000e+00 -1.33339953e+00 -1.42857209e-01\n",
      " -1.33341372e+00  0.00000000e+00  0.00000000e+00  0.00000000e+00\n",
      "  0.00000000e+00  0.00000000e+00  0.00000000e+00  0.00000000e+00\n",
      "  0.00000000e+00  0.00000000e+00  0.00000000e+00  0.00000000e+00\n",
      " -6.06093168e-01 -1.42857209e-01  6.06078804e-01  0.00000000e+00\n",
      "  0.00000000e+00  0.00000000e+00  0.00000000e+00  0.00000000e+00\n",
      "  0.00000000e+00  0.00000000e+00  0.00000000e+00  0.00000000e+00\n",
      "  0.00000000e+00  0.00000000e+00 -1.33339906e+00 -1.42857209e-01\n",
      "  1.33341408e+00  0.00000000e+00  0.00000000e+00  0.00000000e+00\n",
      "  0.00000000e+00  0.00000000e+00  0.00000000e+00  0.00000000e+00\n",
      "  0.00000000e+00  0.00000000e+00  0.00000000e+00  0.00000000e+00\n",
      "  6.06093347e-01 -1.42857209e-01  6.06078625e-01  0.00000000e+00\n",
      "  0.00000000e+00  0.00000000e+00  0.00000000e+00  0.00000000e+00\n",
      "  0.00000000e+00  0.00000000e+00  0.00000000e+00  0.00000000e+00\n",
      "  0.00000000e+00  0.00000000e+00  1.33339953e+00 -1.42857209e-01\n",
      "  1.33341372e+00  0.00000000e+00  0.00000000e+00  0.00000000e+00\n",
      "  0.00000000e+00]\n"
     ]
    }
   ],
   "source": [
    "# reset the environment\n",
    "env_info = env.reset(train_mode=True)[brain_name]\n",
    "\n",
    "# number of agents\n",
    "num_agents = len(env_info.agents)\n",
    "print('Number of agents:', num_agents)\n",
    "\n",
    "# size of each action\n",
    "action_size = brain.vector_action_space_size\n",
    "print('Size of each action:', action_size)\n",
    "\n",
    "# examine the state space \n",
    "states = env_info.vector_observations\n",
    "state_size = states.shape[1]\n",
    "print('There are {} agents. Each observes a state with length: {}'.format(states.shape[0], state_size))\n",
    "print('The state for the first agent looks like:', states[0])"
   ]
  },
  {
   "cell_type": "markdown",
   "metadata": {},
   "source": [
    "### 3. Take Random Actions in the Environment\n",
    "\n",
    "In the next code cell, you will learn how to use the Python API to control the agent and receive feedback from the environment.\n",
    "\n",
    "Once this cell is executed, you will watch the agent's performance, if it selects an action at random with each time step.  A window should pop up that allows you to observe the agent, as it moves through the environment.  \n",
    "\n",
    "Of course, as part of the project, you'll have to change the code so that the agent is able to use its experience to gradually choose better actions when interacting with the environment!"
   ]
  },
  {
   "cell_type": "code",
   "execution_count": 5,
   "metadata": {},
   "outputs": [],
   "source": [
    "agent = Agent(state_size=state_size, action_size=action_size, random_seed=2)"
   ]
  },
  {
   "cell_type": "code",
   "execution_count": 6,
   "metadata": {},
   "outputs": [
    {
     "name": "stderr",
     "output_type": "stream",
     "text": [
      "c:\\programdata\\anaconda3\\envs\\pytorch\\lib\\site-packages\\torch\\nn\\functional.py:1374: UserWarning: nn.functional.tanh is deprecated. Use torch.tanh instead.\n",
      "  warnings.warn(\"nn.functional.tanh is deprecated. Use torch.tanh instead.\")\n"
     ]
    },
    {
     "name": "stdout",
     "output_type": "stream",
     "text": [
      "Episode 100\tScore: 3.32\tMaxScore: 44.16\tMinScore: -2.11\tAverage Score: 4.35\n",
      "Episode 200\tScore: 0.25\tMaxScore: 4.16\tMinScore: 0.25\tAverage Score: 1.7885\n",
      "Episode 300\tScore: 0.95\tMaxScore: 2.50\tMinScore: -0.65\tAverage Score: 0.751\n",
      "Episode 400\tScore: -0.65\tMaxScore: 0.82\tMinScore: -1.04\tAverage Score: -0.21\n",
      "Episode 500\tScore: -0.01\tMaxScore: 0.38\tMinScore: -0.98\tAverage Score: -0.28\n",
      "Episode 600\tScore: -1.32\tMaxScore: 2.08\tMinScore: -1.32\tAverage Score: 1.037\n",
      "Episode 700\tScore: 1.72\tMaxScore: 3.93\tMinScore: -0.70\tAverage Score: 0.828\n",
      "Episode 800\tScore: 0.79\tMaxScore: 2.35\tMinScore: 0.09\tAverage Score: 1.040\n",
      "Episode 900\tScore: 1.44\tMaxScore: 7.47\tMinScore: -0.63\tAverage Score: 1.408\n",
      "Episode 1000\tScore: 1.54\tMaxScore: 5.14\tMinScore: -4.74\tAverage Score: -0.22\n",
      "Episode 1100\tScore: 2.38\tMaxScore: 5.50\tMinScore: -0.15\tAverage Score: 2.1247\n",
      "Episode 1200\tScore: 4.11\tMaxScore: 8.02\tMinScore: 0.78\tAverage Score: 3.795\n",
      "Episode 1300\tScore: 5.41\tMaxScore: 11.09\tMinScore: 2.29\tAverage Score: 5.462\n",
      "Episode 1400\tScore: 4.30\tMaxScore: 10.14\tMinScore: 3.06\tAverage Score: 6.985\n",
      "Episode 1500\tScore: 7.10\tMaxScore: 8.18\tMinScore: 1.39\tAverage Score: 5.280\n",
      "Episode 1600\tScore: 4.26\tMaxScore: 10.30\tMinScore: 1.94\tAverage Score: 6.134\n",
      "Episode 1700\tScore: 11.65\tMaxScore: 14.00\tMinScore: 1.13\tAverage Score: 6.36\n",
      "Episode 1800\tScore: 12.40\tMaxScore: 17.48\tMinScore: 1.44\tAverage Score: 9.52\n",
      "Episode 1900\tScore: 7.65\tMaxScore: 22.19\tMinScore: 4.10\tAverage Score: 10.873\n",
      "Episode 2000\tScore: 14.04\tMaxScore: 18.29\tMinScore: 5.81\tAverage Score: 12.05\n",
      "Episode 2100\tScore: 20.53\tMaxScore: 24.60\tMinScore: 7.14\tAverage Score: 14.99\n",
      "Episode 2200\tScore: 16.64\tMaxScore: 24.77\tMinScore: 2.12\tAverage Score: 15.31\n",
      "Episode 2300\tScore: 11.26\tMaxScore: 21.96\tMinScore: 1.45\tAverage Score: 15.07\n",
      "Episode 2400\tScore: 10.58\tMaxScore: 22.48\tMinScore: 0.44\tAverage Score: 12.52\n",
      "Episode 2500\tScore: 16.14\tMaxScore: 24.16\tMinScore: 0.71\tAverage Score: 13.70\n",
      "Episode 2600\tScore: 19.27\tMaxScore: 26.30\tMinScore: 16.33\tAverage Score: 19.71\n",
      "Episode 2700\tScore: 19.21\tMaxScore: 26.52\tMinScore: 15.16\tAverage Score: 19.77\n",
      "Episode 2800\tScore: 23.57\tMaxScore: 26.69\tMinScore: 14.24\tAverage Score: 19.51\n",
      "Episode 2900\tScore: 20.88\tMaxScore: 34.00\tMinScore: 15.65\tAverage Score: 20.02\n",
      "Episode 3000\tScore: 20.33\tMaxScore: 29.97\tMinScore: 0.90\tAverage Score: 20.489\n",
      "Episode 3100\tScore: 20.55\tMaxScore: 35.17\tMinScore: 16.33\tAverage Score: 21.25\n",
      "Episode 3200\tScore: 17.09\tMaxScore: 38.39\tMinScore: 5.43\tAverage Score: 21.023\n",
      "Episode 3300\tScore: 16.94\tMaxScore: 37.19\tMinScore: 0.75\tAverage Score: 20.27\n",
      "Episode 3400\tScore: 22.34\tMaxScore: 31.21\tMinScore: 0.94\tAverage Score: 20.25\n",
      "Episode 3500\tScore: 21.36\tMaxScore: 25.19\tMinScore: 9.49\tAverage Score: 19.498\n",
      "Episode 3600\tScore: 18.49\tMaxScore: 25.80\tMinScore: 3.75\tAverage Score: 18.22\n",
      "Episode 3700\tScore: 20.53\tMaxScore: 26.36\tMinScore: 11.14\tAverage Score: 19.95\n",
      "Episode 3800\tScore: 16.52\tMaxScore: 26.13\tMinScore: 12.21\tAverage Score: 20.47\n",
      "Episode 3900\tScore: 1.55\tMaxScore: 40.78\tMinScore: 1.43\tAverage Score: 17.6723\n",
      "Episode 4000\tScore: 22.28\tMaxScore: 26.06\tMinScore: 0.95\tAverage Score: 16.24\n",
      "Episode 4100\tScore: 20.05\tMaxScore: 33.38\tMinScore: 16.35\tAverage Score: 22.42\n",
      "Episode 4200\tScore: 20.28\tMaxScore: 31.14\tMinScore: 13.25\tAverage Score: 22.44\n",
      "Episode 4300\tScore: 23.71\tMaxScore: 36.63\tMinScore: 1.01\tAverage Score: 20.544\n",
      "Episode 4400\tScore: 22.60\tMaxScore: 31.44\tMinScore: 13.89\tAverage Score: 22.39\n",
      "Episode 4500\tScore: 18.09\tMaxScore: 35.22\tMinScore: 11.98\tAverage Score: 21.82\n",
      "Episode 4600\tScore: 20.26\tMaxScore: 36.74\tMinScore: 16.80\tAverage Score: 21.73\n",
      "Episode 4700\tScore: 20.66\tMaxScore: 39.77\tMinScore: 13.87\tAverage Score: 21.09\n",
      "Episode 4800\tScore: 24.96\tMaxScore: 48.82\tMinScore: 15.51\tAverage Score: 21.04\n",
      "Episode 4900\tScore: 22.10\tMaxScore: 26.81\tMinScore: 13.31\tAverage Score: 18.91\n",
      "Episode 5000\tScore: 19.27\tMaxScore: 30.44\tMinScore: 14.27\tAverage Score: 20.63\n",
      "Episode 5100\tScore: 21.64\tMaxScore: 31.66\tMinScore: 13.26\tAverage Score: 22.44\n",
      "Episode 5200\tScore: 3.52\tMaxScore: 24.74\tMinScore: 0.90\tAverage Score: 16.0830\n",
      "Episode 5300\tScore: 19.99\tMaxScore: 22.84\tMinScore: 3.40\tAverage Score: 14.21\n",
      "Episode 5400\tScore: 16.48\tMaxScore: 22.99\tMinScore: 8.26\tAverage Score: 17.316\n",
      "Episode 5500\tScore: 23.02\tMaxScore: 27.08\tMinScore: 12.90\tAverage Score: 20.32\n",
      "Episode 5600\tScore: 14.28\tMaxScore: 27.46\tMinScore: 0.72\tAverage Score: 19.555\n",
      "Episode 5700\tScore: 30.04\tMaxScore: 30.04\tMinScore: 3.44\tAverage Score: 21.34\n",
      "Episode 5800\tScore: 29.90\tMaxScore: 35.94\tMinScore: 10.25\tAverage Score: 23.98\n",
      "Episode 5900\tScore: 22.53\tMaxScore: 30.90\tMinScore: 16.14\tAverage Score: 23.53\n",
      "Episode 6000\tScore: 23.04\tMaxScore: 41.70\tMinScore: 1.65\tAverage Score: 23.529\n",
      "Episode 6100\tScore: 25.20\tMaxScore: 35.07\tMinScore: 0.74\tAverage Score: 16.11\n",
      "Episode 6200\tScore: 1.32\tMaxScore: 40.53\tMinScore: 0.69\tAverage Score: 9.6937\n",
      "Episode 6300\tScore: 1.73\tMaxScore: 37.57\tMinScore: 0.82\tAverage Score: 13.240\n",
      "Episode 6400\tScore: 0.92\tMaxScore: 41.61\tMinScore: 0.74\tAverage Score: 12.756\n",
      "Episode 6500\tScore: 1.80\tMaxScore: 48.56\tMinScore: 0.93\tAverage Score: 15.175\n",
      "Episode 6600\tScore: 22.96\tMaxScore: 44.34\tMinScore: 0.74\tAverage Score: 19.42\n",
      "Episode 6700\tScore: 19.13\tMaxScore: 50.40\tMinScore: 0.80\tAverage Score: 16.27\n",
      "Episode 6800\tScore: 22.67\tMaxScore: 42.27\tMinScore: 0.71\tAverage Score: 18.15\n",
      "Episode 6900\tScore: 1.50\tMaxScore: 50.68\tMinScore: 0.75\tAverage Score: 17.699\n",
      "Episode 7000\tScore: 1.49\tMaxScore: 46.25\tMinScore: 0.58\tAverage Score: 16.944\n",
      "Episode 7100\tScore: 29.54\tMaxScore: 48.26\tMinScore: 0.72\tAverage Score: 17.58\n",
      "Episode 7200\tScore: 16.76\tMaxScore: 43.27\tMinScore: 0.76\tAverage Score: 17.82\n",
      "Episode 7300\tScore: 26.12\tMaxScore: 38.89\tMinScore: 0.64\tAverage Score: 17.04\n",
      "Episode 7400\tScore: 21.39\tMaxScore: 55.07\tMinScore: 0.65\tAverage Score: 16.07\n",
      "Episode 7500\tScore: 0.87\tMaxScore: 52.81\tMinScore: 0.75\tAverage Score: 15.977\n",
      "Episode 7600\tScore: 1.62\tMaxScore: 43.07\tMinScore: 0.78\tAverage Score: 19.884\n",
      "Episode 7700\tScore: 23.91\tMaxScore: 44.07\tMinScore: 0.72\tAverage Score: 18.16\n",
      "Episode 7800\tScore: 24.99\tMaxScore: 41.44\tMinScore: 1.19\tAverage Score: 21.66\n",
      "Episode 7900\tScore: 23.06\tMaxScore: 55.24\tMinScore: 0.74\tAverage Score: 22.63\n",
      "Episode 8000\tScore: 37.22\tMaxScore: 56.14\tMinScore: 1.48\tAverage Score: 25.29\n",
      "Episode 8100\tScore: 28.85\tMaxScore: 48.17\tMinScore: 1.43\tAverage Score: 24.82\n",
      "Episode 8200\tScore: 42.01\tMaxScore: 47.69\tMinScore: 1.43\tAverage Score: 24.68\n",
      "Episode 8300\tScore: 26.18\tMaxScore: 48.07\tMinScore: 1.38\tAverage Score: 22.91\n",
      "Episode 8400\tScore: 20.55\tMaxScore: 52.99\tMinScore: 0.99\tAverage Score: 20.09\n",
      "Episode 8500\tScore: 20.60\tMaxScore: 46.26\tMinScore: 0.84\tAverage Score: 20.00\n",
      "Episode 8600\tScore: 1.26\tMaxScore: 42.43\tMinScore: 1.26\tAverage Score: 20.598\n",
      "Episode 8700\tScore: 19.37\tMaxScore: 40.62\tMinScore: 0.74\tAverage Score: 16.04\n",
      "Episode 8800\tScore: 35.10\tMaxScore: 54.77\tMinScore: 0.74\tAverage Score: 20.65\n",
      "Episode 8900\tScore: 18.47\tMaxScore: 43.13\tMinScore: 0.79\tAverage Score: 18.76\n",
      "Episode 9000\tScore: 36.66\tMaxScore: 50.43\tMinScore: 1.20\tAverage Score: 22.44\n",
      "Episode 9100\tScore: 25.15\tMaxScore: 41.77\tMinScore: 1.10\tAverage Score: 18.95\n",
      "Episode 9200\tScore: 14.50\tMaxScore: 44.68\tMinScore: 1.26\tAverage Score: 19.75\n",
      "Episode 9300\tScore: 15.85\tMaxScore: 43.14\tMinScore: 1.40\tAverage Score: 19.79\n",
      "Episode 9400\tScore: 36.47\tMaxScore: 68.09\tMinScore: 0.91\tAverage Score: 23.65\n",
      "Episode 9500\tScore: 25.19\tMaxScore: 68.87\tMinScore: 0.79\tAverage Score: 24.98\n",
      "Episode 9600\tScore: 25.37\tMaxScore: 69.05\tMinScore: 0.72\tAverage Score: 24.06\n",
      "Episode 9700\tScore: 26.84\tMaxScore: 63.45\tMinScore: 1.54\tAverage Score: 26.75\n",
      "Episode 9788\tScore: 48.55\tMaxScore: 63.45\tMinScore: 0.70\tAverage Score: 30.23\n",
      "Environment solved in 9788 episodes!\tAverage Score: 30.23\n"
     ]
    },
    {
     "data": {
      "image/png": "[encoded data removed]",
      "text/plain": [
       "<Figure size 432x288 with 1 Axes>"
      ]
     },
     "metadata": {
      "needs_background": "light"
     },
     "output_type": "display_data"
    }
   ],
   "source": [
    "def ddpg(n_episodes=10000, max_t=2000, print_every=100):\n",
    "    scores_deque = deque(maxlen=print_every)\n",
    "    avg_scores = []\n",
    "    \n",
    "    for i_episode in range(1, n_episodes+1):\n",
    "        env_info = env.reset(train_mode=True)[brain_name]      # reset the environment    \n",
    "        states = env_info.vector_observations                  # get the current state (for each agent)\n",
    "        agent.reset()\n",
    "        scores = np.zeros(num_agents)                          # initialize the score (for each agent)\n",
    "        \n",
    "        for t in range(max_t):\n",
    "            actions = agent.act(states)\n",
    "            env_info = env.step(actions)[brain_name]           # send all actions to tne environment\n",
    "            next_states = env_info.vector_observations         # get next state (for each agent)\n",
    "            rewards = env_info.rewards                         # get reward (for each agent)\n",
    "            dones = env_info.local_done                        # see if episode finished\n",
    "            agent.step(states, actions, rewards, next_states, dones, t)\n",
    "            states = next_states                               # roll over states to next time step\n",
    "            scores += rewards                                  # update the score (for each agent)     \n",
    "            \n",
    "            if np.any(dones):                                  # exit loop if episode finished\n",
    "                break\n",
    "                \n",
    "        score = np.mean(scores)\n",
    "        scores_deque.append(score)\n",
    "        avg_scores.append(score)      \n",
    "        \n",
    "        print('\\rEpisode {}\\tScore: {:.2f}\\tMaxScore: {:.2f}\\tMinScore: {:.2f}\\tAverage Score: {:.2f}'.format(i_episode, score, np.max(scores_deque), np.min(scores_deque), np.mean(scores_deque)), end=\"\")\n",
    "        if i_episode % 100 == 0:\n",
    "            print('\\rEpisode {}\\tScore: {:.2f}\\tMaxScore: {:.2f}\\tMinScore: {:.2f}\\tAverage Score: {:.2f}'.format(i_episode, score, np.max(scores_deque), np.min(scores_deque), np.mean(scores_deque)))\n",
    "            \n",
    "        if np.mean(scores_deque) >= 30.0:\n",
    "            torch.save(agent.actor_local.state_dict(), 'checkpoint_actor.pth')\n",
    "            torch.save(agent.critic_local.state_dict(), 'checkpoint_critic.pth')\n",
    "            print('\\nEnvironment solved in {:d} episodes!\\tAverage Score: {:.2f}'.format(i_episode, np.mean(scores_deque)))            \n",
    "            break            \n",
    "            \n",
    "    return avg_scores\n",
    "\n",
    "scores = ddpg()\n",
    "\n",
    "fig = plt.figure()\n",
    "ax = fig.add_subplot(111)\n",
    "plt.plot(np.arange(1, len(scores)+1), scores)\n",
    "plt.ylabel('Score')\n",
    "plt.xlabel('Episode #')\n",
    "plt.show()"
   ]
  },
  {
   "cell_type": "markdown",
   "metadata": {},
   "source": [
    "When finished, you can close the environment."
   ]
  },
  {
   "cell_type": "code",
   "execution_count": 7,
   "metadata": {},
   "outputs": [],
   "source": [
    "env.close()"
   ]
  },
  {
   "cell_type": "markdown",
   "metadata": {},
   "source": [
    "### 4. It's Your Turn!\n",
    "\n",
    "Now it's your turn to train your own agent to solve the environment!  When training the environment, set `train_mode=True`, so that the line for resetting the environment looks like the following:\n",
    "```python\n",
    "env_info = env.reset(train_mode=True)[brain_name]\n",
    "```"
   ]
  }
 ],
 "metadata": {
  "kernelspec": {
   "display_name": "Python 3",
   "language": "python",
   "name": "python3"
  },
  "language_info": {
   "codemirror_mode": {
    "name": "ipython",
    "version": 3
   },
   "file_extension": ".py",
   "mimetype": "text/x-python",
   "name": "python",
   "nbconvert_exporter": "python",
   "pygments_lexer": "ipython3",
   "version": "3.6.8"
  }
 },
 "nbformat": 4,
 "nbformat_minor": 2
}
