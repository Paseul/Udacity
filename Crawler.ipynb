{
 "cells": [
  {
   "cell_type": "markdown",
   "metadata": {},
   "source": [
    "# Continuous Control\n",
    "\n",
    "---\n",
    "\n",
    "Congratulations for completing the second project of the [Deep Reinforcement Learning Nanodegree](https://www.udacity.com/course/deep-reinforcement-learning-nanodegree--nd893) program!  In this notebook, you will learn how to control an agent in a more challenging environment, where the goal is to train a creature with four arms to walk forward.  **Note that this exercise is optional!**\n",
    "\n",
    "### 1. Start the Environment\n",
    "\n",
    "We begin by importing the necessary packages.  If the code cell below returns an error, please revisit the project instructions to double-check that you have installed [Unity ML-Agents](https://github.com/Unity-Technologies/ml-agents/blob/master/docs/Installation.md) and [NumPy](http://www.numpy.org/)."
   ]
  },
  {
   "cell_type": "code",
   "execution_count": 1,
   "metadata": {},
   "outputs": [],
   "source": [
    "from unityagents import UnityEnvironment\n",
    "import random\n",
    "import torch\n",
    "import numpy as np\n",
    "from collections import deque\n",
    "import matplotlib.pyplot as plt\n",
    "%matplotlib inline\n",
    "\n",
    "from ddpg_agent import Agent"
   ]
  },
  {
   "cell_type": "markdown",
   "metadata": {},
   "source": [
    "Next, we will start the environment!  **_Before running the code cell below_**, change the `file_name` parameter to match the location of the Unity environment that you downloaded.\n",
    "\n",
    "- **Mac**: `\"path/to/Crawler.app\"`\n",
    "- **Windows** (x86): `\"path/to/Crawler_Windows_x86/Crawler.exe\"`\n",
    "- **Windows** (x86_64): `\"path/to/Crawler_Windows_x86_64/Crawler.exe\"`\n",
    "- **Linux** (x86): `\"path/to/Crawler_Linux/Crawler.x86\"`\n",
    "- **Linux** (x86_64): `\"path/to/Crawler_Linux/Crawler.x86_64\"`\n",
    "- **Linux** (x86, headless): `\"path/to/Crawler_Linux_NoVis/Crawler.x86\"`\n",
    "- **Linux** (x86_64, headless): `\"path/to/Crawler_Linux_NoVis/Crawler.x86_64\"`\n",
    "\n",
    "For instance, if you are using a Mac, then you downloaded `Crawler.app`.  If this file is in the same folder as the notebook, then the line below should appear as follows:\n",
    "```\n",
    "env = UnityEnvironment(file_name=\"Crawler.app\")\n",
    "```"
   ]
  },
  {
   "cell_type": "code",
   "execution_count": 2,
   "metadata": {},
   "outputs": [
    {
     "name": "stderr",
     "output_type": "stream",
     "text": [
      "INFO:unityagents:\n",
      "'Academy' started successfully!\n",
      "Unity Academy name: Academy\n",
      "        Number of Brains: 1\n",
      "        Number of External Brains : 1\n",
      "        Lesson number : 0\n",
      "        Reset Parameters :\n",
      "\t\t\n",
      "Unity brain name: CrawlerBrain\n",
      "        Number of Visual Observations (per agent): 0\n",
      "        Vector Observation space type: continuous\n",
      "        Vector Observation space size (per agent): 129\n",
      "        Number of stacked Vector Observation: 1\n",
      "        Vector Action space type: continuous\n",
      "        Vector Action space size (per agent): 20\n",
      "        Vector Action descriptions: , , , , , , , , , , , , , , , , , , , \n"
     ]
    }
   ],
   "source": [
    "env = UnityEnvironment(file_name='Crawler_Windows_x86_64/Crawler.exe')"
   ]
  },
  {
   "cell_type": "markdown",
   "metadata": {},
   "source": [
    "Environments contain **_brains_** which are responsible for deciding the actions of their associated agents. Here we check for the first brain available, and set it as the default brain we will be controlling from Python."
   ]
  },
  {
   "cell_type": "code",
   "execution_count": 3,
   "metadata": {},
   "outputs": [],
   "source": [
    "# get the default brain\n",
    "brain_name = env.brain_names[0]\n",
    "brain = env.brains[brain_name]"
   ]
  },
  {
   "cell_type": "markdown",
   "metadata": {},
   "source": [
    "### 2. Examine the State and Action Spaces\n",
    "\n",
    "Run the code cell below to print some information about the environment."
   ]
  },
  {
   "cell_type": "code",
   "execution_count": 4,
   "metadata": {},
   "outputs": [
    {
     "name": "stdout",
     "output_type": "stream",
     "text": [
      "Number of agents: 12\n",
      "Size of each action: 20\n",
      "There are 12 agents. Each observes a state with length: 129\n",
      "Size of each action: 20\n",
      "The state for the first agent looks like: [ 0.00000000e+00  0.00000000e+00  0.00000000e+00  2.25000000e+00\n",
      "  1.00000000e+00  0.00000000e+00  1.78813934e-07  0.00000000e+00\n",
      "  1.00000000e+00  0.00000000e+00  0.00000000e+00  0.00000000e+00\n",
      "  0.00000000e+00  0.00000000e+00  0.00000000e+00  0.00000000e+00\n",
      "  0.00000000e+00  0.00000000e+00  0.00000000e+00  0.00000000e+00\n",
      "  0.00000000e+00  0.00000000e+00  0.00000000e+00  0.00000000e+00\n",
      "  6.06093168e-01 -1.42857209e-01 -6.06078804e-01  0.00000000e+00\n",
      "  0.00000000e+00  0.00000000e+00  0.00000000e+00  0.00000000e+00\n",
      "  0.00000000e+00  0.00000000e+00  0.00000000e+00  0.00000000e+00\n",
      "  0.00000000e+00  0.00000000e+00  1.33339906e+00 -1.42857209e-01\n",
      " -1.33341408e+00  0.00000000e+00  0.00000000e+00  0.00000000e+00\n",
      "  0.00000000e+00  0.00000000e+00  0.00000000e+00  0.00000000e+00\n",
      "  0.00000000e+00  0.00000000e+00  0.00000000e+00  0.00000000e+00\n",
      " -6.06093347e-01 -1.42857209e-01 -6.06078625e-01  0.00000000e+00\n",
      "  0.00000000e+00  0.00000000e+00  0.00000000e+00  0.00000000e+00\n",
      "  0.00000000e+00  0.00000000e+00  0.00000000e+00  0.00000000e+00\n",
      "  0.00000000e+00  0.00000000e+00 -1.33339953e+00 -1.42857209e-01\n",
      " -1.33341372e+00  0.00000000e+00  0.00000000e+00  0.00000000e+00\n",
      "  0.00000000e+00  0.00000000e+00  0.00000000e+00  0.00000000e+00\n",
      "  0.00000000e+00  0.00000000e+00  0.00000000e+00  0.00000000e+00\n",
      " -6.06093168e-01 -1.42857209e-01  6.06078804e-01  0.00000000e+00\n",
      "  0.00000000e+00  0.00000000e+00  0.00000000e+00  0.00000000e+00\n",
      "  0.00000000e+00  0.00000000e+00  0.00000000e+00  0.00000000e+00\n",
      "  0.00000000e+00  0.00000000e+00 -1.33339906e+00 -1.42857209e-01\n",
      "  1.33341408e+00  0.00000000e+00  0.00000000e+00  0.00000000e+00\n",
      "  0.00000000e+00  0.00000000e+00  0.00000000e+00  0.00000000e+00\n",
      "  0.00000000e+00  0.00000000e+00  0.00000000e+00  0.00000000e+00\n",
      "  6.06093347e-01 -1.42857209e-01  6.06078625e-01  0.00000000e+00\n",
      "  0.00000000e+00  0.00000000e+00  0.00000000e+00  0.00000000e+00\n",
      "  0.00000000e+00  0.00000000e+00  0.00000000e+00  0.00000000e+00\n",
      "  0.00000000e+00  0.00000000e+00  1.33339953e+00 -1.42857209e-01\n",
      "  1.33341372e+00  0.00000000e+00  0.00000000e+00  0.00000000e+00\n",
      "  0.00000000e+00]\n"
     ]
    }
   ],
   "source": [
    "# reset the environment\n",
    "env_info = env.reset(train_mode=True)[brain_name]\n",
    "\n",
    "# number of agents\n",
    "num_agents = len(env_info.agents)\n",
    "print('Number of agents:', num_agents)\n",
    "\n",
    "# size of each action\n",
    "action_size = brain.vector_action_space_size\n",
    "print('Size of each action:', action_size)\n",
    "\n",
    "# examine the state space \n",
    "states = env_info.vector_observations\n",
    "state_size = states.shape[1]\n",
    "print('There are {} agents. Each observes a state with length: {}'.format(states.shape[0], state_size))\n",
    "print('Size of each action:', action_size)\n",
    "print('The state for the first agent looks like:', states[0])"
   ]
  },
  {
   "cell_type": "markdown",
   "metadata": {},
   "source": [
    "### 3. Take Random Actions in the Environment\n",
    "\n",
    "In the next code cell, you will learn how to use the Python API to control the agent and receive feedback from the environment.\n",
    "\n",
    "Once this cell is executed, you will watch the agent's performance, if it selects an action at random with each time step.  A window should pop up that allows you to observe the agent, as it moves through the environment.  \n",
    "\n",
    "Of course, as part of the project, you'll have to change the code so that the agent is able to use its experience to gradually choose better actions when interacting with the environment!"
   ]
  },
  {
   "cell_type": "code",
   "execution_count": 5,
   "metadata": {},
   "outputs": [],
   "source": [
    "agent = Agent(state_size=state_size, action_size=action_size, random_seed=2)"
   ]
  },
  {
   "cell_type": "code",
   "execution_count": 6,
   "metadata": {},
   "outputs": [
    {
     "name": "stderr",
     "output_type": "stream",
     "text": [
      "c:\\programdata\\anaconda3\\envs\\pytorch\\lib\\site-packages\\torch\\nn\\functional.py:1374: UserWarning: nn.functional.tanh is deprecated. Use torch.tanh instead.\n",
      "  warnings.warn(\"nn.functional.tanh is deprecated. Use torch.tanh instead.\")\n"
     ]
    },
    {
     "name": "stdout",
     "output_type": "stream",
     "text": [
      "Episode 100\tScore: 0.77\tMaxScore: 27.63\tMinScore: -2.46\tAverage Score: 1.31\t\n",
      "Episode 200\tScore: 0.57\tMaxScore: 3.91\tMinScore: -2.83\tAverage Score: 1.47\t\t\n",
      "Episode 300\tScore: 2.46\tMaxScore: 2.57\tMinScore: -0.70\tAverage Score: 0.65\t\t\n",
      "Episode 400\tScore: 2.63\tMaxScore: 3.07\tMinScore: 1.21\tAverage Score: 2.28\t\t\n",
      "Episode 500\tScore: 2.35\tMaxScore: 4.29\tMinScore: 0.37\tAverage Score: 2.48\t\n",
      "Episode 600\tScore: 3.55\tMaxScore: 4.20\tMinScore: 1.70\tAverage Score: 2.80\t\n",
      "Episode 700\tScore: 5.85\tMaxScore: 8.63\tMinScore: 2.51\tAverage Score: 4.76\t\n",
      "Episode 800\tScore: 5.39\tMaxScore: 9.92\tMinScore: 2.12\tAverage Score: 5.82\t\n",
      "Episode 900\tScore: 10.28\tMaxScore: 11.66\tMinScore: 2.44\tAverage Score: 7.28\t\n",
      "Episode 1000\tScore: 12.31\tMaxScore: 13.85\tMinScore: 4.53\tAverage Score: 10.13\t\n",
      "Episode 1100\tScore: 11.23\tMaxScore: 17.35\tMinScore: 2.39\tAverage Score: 11.69\t\n",
      "Episode 1200\tScore: 3.41\tMaxScore: 15.32\tMinScore: 1.30\tAverage Score: 8.63\t\t\t\n",
      "Episode 1300\tScore: 9.62\tMaxScore: 11.68\tMinScore: 0.13\tAverage Score: 5.95\t\t\n",
      "Episode 1400\tScore: 7.86\tMaxScore: 11.46\tMinScore: 0.48\tAverage Score: 6.75\t\t\n",
      "Episode 1500\tScore: 11.73\tMaxScore: 20.95\tMinScore: 1.40\tAverage Score: 7.66\t\n",
      "Episode 1600\tScore: 21.80\tMaxScore: 24.14\tMinScore: 0.54\tAverage Score: 12.73\t\n",
      "Episode 1700\tScore: 0.21\tMaxScore: 26.50\tMinScore: -0.24\tAverage Score: 8.52\t\t\t\n",
      "Episode 1800\tScore: 22.07\tMaxScore: 29.11\tMinScore: -0.18\tAverage Score: 11.07\t\n",
      "Episode 1900\tScore: 1.39\tMaxScore: 30.34\tMinScore: -0.50\tAverage Score: 14.70\t\t\n",
      "Episode 2000\tScore: 0.13\tMaxScore: 24.91\tMinScore: 0.01\tAverage Score: 5.06\t\t\t\t\n",
      "Episode 2100\tScore: 27.29\tMaxScore: 27.29\tMinScore: 0.15\tAverage Score: 10.33\t\n",
      "Episode 2200\tScore: 17.00\tMaxScore: 28.24\tMinScore: 1.24\tAverage Score: 18.00\t\n",
      "Episode 2300\tScore: 17.30\tMaxScore: 27.08\tMinScore: 1.04\tAverage Score: 19.15\t\n",
      "Episode 2400\tScore: 17.15\tMaxScore: 29.54\tMinScore: 0.43\tAverage Score: 13.28\t\n",
      "Episode 2500\tScore: 1.04\tMaxScore: 28.53\tMinScore: 0.65\tAverage Score: 8.36\t\t\t\n",
      "Episode 2600\tScore: 4.34\tMaxScore: 29.18\tMinScore: 0.69\tAverage Score: 9.08\t\t\n",
      "Episode 2700\tScore: 17.47\tMaxScore: 23.84\tMinScore: 1.27\tAverage Score: 10.64\t\n",
      "Episode 2800\tScore: 7.11\tMaxScore: 21.95\tMinScore: 1.77\tAverage Score: 9.32\t\t\t\n",
      "Episode 2900\tScore: 14.29\tMaxScore: 26.56\tMinScore: 2.05\tAverage Score: 10.22\t\n",
      "Episode 3000\tScore: 25.26\tMaxScore: 26.34\tMinScore: 2.20\tAverage Score: 10.30\t\n",
      "Episode 3100\tScore: 16.62\tMaxScore: 26.52\tMinScore: 1.50\tAverage Score: 19.82\t\n",
      "Episode 3200\tScore: 26.88\tMaxScore: 37.68\tMinScore: 1.62\tAverage Score: 24.26\t\n",
      "Episode 3300\tScore: 25.60\tMaxScore: 36.08\tMinScore: 0.63\tAverage Score: 23.90\t\n",
      "Episode 3400\tScore: 19.59\tMaxScore: 31.82\tMinScore: 0.99\tAverage Score: 20.39\t\t\n",
      "Episode 3500\tScore: 22.99\tMaxScore: 37.23\tMinScore: 0.82\tAverage Score: 20.22\t\n",
      "Episode 3600\tScore: 21.15\tMaxScore: 46.43\tMinScore: 1.06\tAverage Score: 13.42\t\n",
      "Episode 3700\tScore: 5.87\tMaxScore: 25.08\tMinScore: 2.51\tAverage Score: 10.84\t\t\n",
      "Episode 3800\tScore: 13.47\tMaxScore: 32.15\tMinScore: 3.74\tAverage Score: 13.36\t\n",
      "Episode 3900\tScore: 9.59\tMaxScore: 30.62\tMinScore: 3.94\tAverage Score: 13.16\t\t\n",
      "Episode 4000\tScore: 11.94\tMaxScore: 28.50\tMinScore: 2.94\tAverage Score: 12.96\t\n",
      "Episode 4100\tScore: 7.59\tMaxScore: 29.19\tMinScore: 2.20\tAverage Score: 12.41\t\t\n",
      "Episode 4200\tScore: 16.86\tMaxScore: 29.28\tMinScore: 2.08\tAverage Score: 11.14\t\n",
      "Episode 4300\tScore: 1.06\tMaxScore: 44.43\tMinScore: 0.92\tAverage Score: 12.15\t\t\n",
      "Episode 4400\tScore: 0.60\tMaxScore: 45.34\tMinScore: 0.49\tAverage Score: 15.45\t\t\n",
      "Episode 4500\tScore: 17.64\tMaxScore: 40.97\tMinScore: 0.74\tAverage Score: 17.81\t\n",
      "Episode 4600\tScore: 1.10\tMaxScore: 42.73\tMinScore: 0.59\tAverage Score: 14.32\t\t\n",
      "Episode 4700\tScore: 27.60\tMaxScore: 45.88\tMinScore: 0.75\tAverage Score: 17.25\t\n",
      "Episode 4800\tScore: 0.98\tMaxScore: 59.00\tMinScore: 0.97\tAverage Score: 23.17\t\t\n",
      "Episode 4900\tScore: 18.36\tMaxScore: 48.88\tMinScore: 0.55\tAverage Score: 22.09\t\n",
      "Episode 5000\tScore: 36.25\tMaxScore: 50.48\tMinScore: 1.00\tAverage Score: 26.06\t\n"
     ]
    },
    {
     "data": {
      "image/png": "[encoded data removed]",
      "text/plain": [
       "<Figure size 432x288 with 1 Axes>"
      ]
     },
     "metadata": {
      "needs_background": "light"
     },
     "output_type": "display_data"
    }
   ],
   "source": [
    "def ddpg(n_episodes=5000, max_t=2000, print_every=100):\n",
    "    scores_deque = deque(maxlen=print_every)\n",
    "    avg_scores = []\n",
    "    \n",
    "    for i_episode in range(1, n_episodes+1):\n",
    "        env_info = env.reset(train_mode=True)[brain_name]      # reset the environment    \n",
    "        states = env_info.vector_observations                  # get the current state (for each agent)\n",
    "        agent.reset()\n",
    "        scores = np.zeros(num_agents)                          # initialize the score (for each agent)\n",
    "        mean = 0\n",
    "        for t in range(max_t):\n",
    "            actions = agent.act(states)\n",
    "            env_info = env.step(actions)[brain_name]           # send all actions to tne environment\n",
    "            next_states = env_info.vector_observations         # get next state (for each agent)\n",
    "            rewards = env_info.rewards                         # get reward (for each agent)\n",
    "            dones = env_info.local_done                        # see if episode finished\n",
    "            agent.step(states, actions, rewards, next_states, dones, t)\n",
    "            states = next_states                               # roll over states to next time step\n",
    "            scores += rewards                                  # update the score (for each agent)     \n",
    "            \n",
    "            if np.any(dones):                                  # exit loop if episode finished\n",
    "                break\n",
    "                \n",
    "        score = np.mean(scores)\n",
    "        scores_deque.append(score)\n",
    "        mean = np.mean(scores_deque)\n",
    "        avg_scores.append(score)      \n",
    "        \n",
    "        print('\\rEpisode {}\\tScore: {:.2f}\\tMaxScore: {:.2f}\\tMinScore: {:.2f}\\tAverage Score: {:.2f}\\t'.format(i_episode, score, np.max(scores_deque), np.min(scores_deque), mean), end=\"\")\n",
    "        if i_episode % print_every == 0:\n",
    "            print('\\rEpisode {}\\tScore: {:.2f}\\tMaxScore: {:.2f}\\tMinScore: {:.2f}\\tAverage Score: {:.2f}\\t'.format(i_episode, score, np.max(scores_deque), np.min(scores_deque), mean))\n",
    "            \n",
    "        if np.mean(scores_deque) >= 30.0:\n",
    "            torch.save(agent.actor_local.state_dict(), 'checkpoint_actor.pth')\n",
    "            torch.save(agent.critic_local.state_dict(), 'checkpoint_critic.pth')\n",
    "            print('\\nEnvironment solved in {:d} episodes!\\tAverage Score: {:.2f}'.format(i_episode, np.mean(scores_deque)))            \n",
    "            break            \n",
    "            \n",
    "    return avg_scores\n",
    "\n",
    "scores = ddpg()\n",
    "\n",
    "fig = plt.figure()\n",
    "ax = fig.add_subplot(111)\n",
    "plt.plot(np.arange(1, len(scores)+1), scores)\n",
    "plt.ylabel('Score')\n",
    "plt.xlabel('Episode #')\n",
    "plt.show()"
   ]
  },
  {
   "cell_type": "markdown",
   "metadata": {},
   "source": [
    "When finished, you can close the environment."
   ]
  },
  {
   "cell_type": "code",
   "execution_count": 7,
   "metadata": {},
   "outputs": [],
   "source": [
    "env.close()"
   ]
  },
  {
   "cell_type": "markdown",
   "metadata": {},
   "source": [
    "### 4. It's Your Turn!\n",
    "\n",
    "Now it's your turn to train your own agent to solve the environment!  When training the environment, set `train_mode=True`, so that the line for resetting the environment looks like the following:\n",
    "```python\n",
    "env_info = env.reset(train_mode=True)[brain_name]\n",
    "```"
   ]
  }
 ],
 "metadata": {
  "kernelspec": {
   "display_name": "Python 3",
   "language": "python",
   "name": "python3"
  },
  "language_info": {
   "codemirror_mode": {
    "name": "ipython",
    "version": 3
   },
   "file_extension": ".py",
   "mimetype": "text/x-python",
   "name": "python",
   "nbconvert_exporter": "python",
   "pygments_lexer": "ipython3",
   "version": "3.6.8"
  }
 },
 "nbformat": 4,
 "nbformat_minor": 2
}
